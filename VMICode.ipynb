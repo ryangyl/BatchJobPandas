{
 "cells": [
  {
   "cell_type": "code",
   "execution_count": 24,
   "metadata": {},
   "outputs": [],
   "source": [
    "import numpy as np\n",
    "import pandas as pd\n",
    "import os \n",
    "import win32com.client\n",
    "from datetime import datetime, date, timedelta"
   ]
  },
  {
   "cell_type": "code",
   "execution_count": 25,
   "metadata": {},
   "outputs": [
    {
     "name": "stdout",
     "output_type": "stream",
     "text": [
      "The current time is 9\n",
      "2024-12-09\n",
      "2024-12-08\n"
     ]
    }
   ],
   "source": [
    "x = datetime.now().hour\n",
    "today = date.today()\n",
    "#yesterday = today - timedelta(days=1)\n",
    "print(\"The current time is\", x)\n",
    "print(today)\n",
    "#print(yesterday)"
   ]
  },
  {
   "cell_type": "code",
   "execution_count": 26,
   "metadata": {},
   "outputs": [
    {
     "name": "stdout",
     "output_type": "stream",
     "text": [
      "Job ME5A PR DAILY REPORT, Step 1\n",
      "Job YIFR_ENG SPARE INCOMING_V1, Step 1\n",
      "You have 4 actions due in next 30 days\n",
      "Ryan, respond to your 16 new coworkers, 50 group updates and 56 unread notifications\n"
     ]
    }
   ],
   "source": [
    "outlook = win32com.client.Dispatch(\"Outlook.Application\").GetNamespace(\"MAPI\")\n",
    "inbox = outlook.GetDefaultFolder(6)\n",
    "messages = inbox.Items\n",
    "for message in messages:\n",
    "    if message.SentOn.date() == today and message.Class == 43:\n",
    "        print(message.Subject)\n",
    "        if (\"Job VMI_JU_PO_BL_QTY\" in message.Subject) or (\"Job VMI_JU_STOCK LEVEL\" in message.Subject):\n",
    "            attachments = message.Attachments\n",
    "            for attachment in attachments:\n",
    "                attachment.SaveAsFile(os.path.join(r'\\\\Siwdsntv002\\sg_psc_sg1_pl_08_control_whse\\Past Interns\\Ryan\\Eriks', attachment.FileName))"
   ]
  },
  {
   "cell_type": "code",
   "execution_count": 9,
   "metadata": {},
   "outputs": [
    {
     "name": "stdout",
     "output_type": "stream",
     "text": [
      "2\n",
      "   Plnt        Material                     Material Description Typ  \\\n",
      "0  SG93  50000400000397     ATG MAXIFLEX KNITWRIST GLOVE SIZE 10  Z1   \n",
      "1  SG93  50000400000398     ATG MAXIFLEX KNITWRIST GLOVE SIZE 09  Z1   \n",
      "2  SG93  50000400000399     ATG MAXIFLEX KNITWRIST GLOVE SIZE 08  Z1   \n",
      "3  SG93  50000400000400     ATG MAXIFLEX KNITWRIST GLOVE SIZE 07  Z1   \n",
      "4  SG93  50000400201967  CLEANING-WIPERS 9X9 NON-WOVEN CELIULOSE  Z1   \n",
      "\n",
      "   Reorder Pt  Fixed lot  Unrestr.  PGr  MvAvgPrice  \\\n",
      "0        72.0      144.0     252.0  S15        3.14   \n",
      "1        72.0      144.0     204.0  S15        3.59   \n",
      "2        72.0      144.0     252.0  S15        3.07   \n",
      "3        12.0       12.0      57.0  S15        3.11   \n",
      "4        60.0       60.0     141.0  S13       13.99   \n",
      "\n",
      "              Mfr Part Number  ...  Stor.  RShLi  SLife Period Ind  \\\n",
      "0  MAXIFLEX KNITWRIST SIZE 10  ...      0      0      0          D   \n",
      "1  MAXIFLEX KNITWRIST SIZE 09  ...      0      0      0          D   \n",
      "2  MAXIFLEX KNITWRIST SIZE 08  ...      0      0      0          D   \n",
      "3  MAXIFLEX KNITWRIST SIZE 07  ...      0      0      0          D   \n",
      "4   WIPERS9X9NONWOENCELIULOSE  ...      0      0      0          D   \n",
      "\n",
      "   PhyInvDate   CC     Created Manufacture Ctr. Key  MS  \n",
      "0  20.02.2024  NaN  16.01.2017         ATG    ZM001  AC  \n",
      "1  20.02.2024  NaN  16.01.2017         ATG    ZM001  AC  \n",
      "2  20.02.2024  NaN  16.01.2017         ATG    ZM001  AC  \n",
      "3  20.02.2024  NaN  16.01.2017         ATG    ZM001  AC  \n",
      "4  30.07.2024  NaN  16.01.2017         NaN    ZM001  AC  \n",
      "\n",
      "[5 rows x 31 columns]\n",
      "    Pur. Doc.  Item Type Cat    Vendor/supplying plant  POrg  PGr   Doc. Date  \\\n",
      "0  4503179283   180   NB   F  9910119056 ERIKS PTE LTD  SG02  S14  05.10.2023   \n",
      "1  4503179283   190   NB   F  9910119056 ERIKS PTE LTD  SG02  S14  05.10.2023   \n",
      "2  4503179283   200   NB   F  9910119056 ERIKS PTE LTD  SG02  S14  05.10.2023   \n",
      "3  4503269893    20   NB   F  9910119056 ERIKS PTE LTD  SG02  S13  15.04.2024   \n",
      "4  4503269893    30   NB   F  9910119056 ERIKS PTE LTD  SG02  S13  15.04.2024   \n",
      "\n",
      "         Material                                Short Text  ... Ext.H Cat.  \\\n",
      "0  50000408518017      RING GSKT-55X85X1.55M WILDEN-GORETEX  ...        NaN   \n",
      "1  55000000002000    HOSE GSKT FEP ENCAP 0.5 INCH 26od PP1M  ...        NaN   \n",
      "2  55000000002001  HOSE GSKT FEP ENCAP 1.5 INCH 55.5od PP1M  ...        NaN   \n",
      "3  50000400500326           GSKT-PTFE 2 1/2IN RF 1/16IN THK  ...        NaN   \n",
      "4  50000400500328               GSKT-PTFE 4IN RF 1/16IN THK  ...        NaN   \n",
      "\n",
      "   RU  ReqmtPrio.  Smart No.  Char1  CharDes. 1  Char2  CharDes 2 Char3  \\\n",
      "0 NaN         NaN        NaN    NaN         NaN    NaN        NaN   NaN   \n",
      "1 NaN         NaN        NaN    NaN         NaN    NaN        NaN   NaN   \n",
      "2 NaN         NaN        NaN    NaN         NaN    NaN        NaN   NaN   \n",
      "3 NaN         NaN        NaN    NaN         NaN    NaN        NaN   NaN   \n",
      "4 NaN         NaN        NaN    NaN         NaN    NaN        NaN   NaN   \n",
      "\n",
      "   CharDes. 3  \n",
      "0         NaN  \n",
      "1         NaN  \n",
      "2         NaN  \n",
      "3         NaN  \n",
      "4         NaN  \n",
      "\n",
      "[5 rows x 76 columns]\n"
     ]
    }
   ],
   "source": [
    "directory = r'\\\\Siwdsntv002\\sg_psc_sg1_pl_08_control_whse\\Past Interns\\Ryan\\Eriks'\n",
    "i = 0\n",
    "for filename in os.listdir(directory):\n",
    "    file_path = os.path.join(directory, filename)\n",
    "    if x < 12:\n",
    "        if filename == 'Job VMI_JU_STOCK LEVEL, Step 1.htm':\n",
    "            stock_df = pd.read_html(file_path, header=0)[2]\n",
    "            i += 1\n",
    "        elif filename == 'Job VMI_JU_PO_BL_QTY, Step 1.htm':\n",
    "            po_df = pd.read_html(file_path, header=0)[0]\n",
    "            i += 1\n",
    "    elif x > 12:\n",
    "        if filename == 'Job VMI_JU_STOCK LEVEL AFTERNOON, Step 1.htm':\n",
    "            stock_df = pd.read_html(file_path, header=0)[2]\n",
    "            i += 1\n",
    "        elif filename == 'Job VMI_JU_PO_BL_QTY AFTERNOON, Step 1.htm':\n",
    "            po_df = pd.read_html(file_path, header=0)[0]\n",
    "            i += 1\n",
    "print(i)\n",
    "        \n",
    "print(stock_df.head())\n",
    "print(po_df.head())"
   ]
  },
  {
   "cell_type": "code",
   "execution_count": 10,
   "metadata": {},
   "outputs": [],
   "source": [
    "#stock_df.columns.values.tolist()\n",
    "#print(po_df.columns.values.tolist())"
   ]
  },
  {
   "cell_type": "code",
   "execution_count": 11,
   "metadata": {},
   "outputs": [
    {
     "name": "stdout",
     "output_type": "stream",
     "text": [
      "         Material                     Material_Description  \\\n",
      "0  50000400000397     ATG MAXIFLEX KNITWRIST GLOVE SIZE 10   \n",
      "1  50000400000398     ATG MAXIFLEX KNITWRIST GLOVE SIZE 09   \n",
      "2  50000400000399     ATG MAXIFLEX KNITWRIST GLOVE SIZE 08   \n",
      "3  50000400000400     ATG MAXIFLEX KNITWRIST GLOVE SIZE 07   \n",
      "4  50000400201967  CLEANING-WIPERS 9X9 NON-WOVEN CELIULOSE   \n",
      "\n",
      "   VMI Drop To (Min level)  VMI Top Up  GSK Stock Level Base Unit of Measure  \\\n",
      "0                     72.0       144.0            252.0                   EA   \n",
      "1                     72.0       144.0            204.0                   EA   \n",
      "2                     72.0       144.0            252.0                   EA   \n",
      "3                     12.0        12.0             57.0                   EA   \n",
      "4                     60.0        60.0            141.0                  PAC   \n",
      "\n",
      "   SLoc  \n",
      "0  5001  \n",
      "1  5001  \n",
      "2  5001  \n",
      "3  5001  \n",
      "4  5001  \n"
     ]
    }
   ],
   "source": [
    "stock_col = [\"Material\", \"Material\\xa0Description\", \"Reorder\\xa0Pt\", \"Fixed\\xa0lot\", \"Unrestr.\" ,\"BUn\",\"SLoc\"]\n",
    "stock_col_rename = {\"Material\":'Material', \"Material\\xa0Description\" : \"Material_Description\", \"Reorder\\xa0Pt\" : \"VMI Drop To (Min level)\", \"Fixed\\xa0lot\" : \"VMI Top Up\", \"Unrestr.\" : \"GSK Stock Level\",\"BUn\":\"Base Unit of Measure\"}\n",
    "stock_df = stock_df[stock_col]\n",
    "stock_df = stock_df.rename(columns=stock_col_rename)\n",
    "stock_df = stock_df[stock_df[\"GSK Stock Level\"] != 0]\n",
    "mask = (\n",
    "    ((stock_df['Material'] == 55000000020911) & (stock_df['SLoc'] != 5002)) |\n",
    "    ((stock_df['Material'] == 55000000020913) & (stock_df['SLoc'] != 5002)) |\n",
    "    ((stock_df['Material'] == 55000000020912) & (stock_df['SLoc'] != 5002))\n",
    ")\n",
    "\n",
    "stock_df = stock_df[~mask]\n",
    "print(stock_df.head())"
   ]
  },
  {
   "cell_type": "code",
   "execution_count": 12,
   "metadata": {},
   "outputs": [
    {
     "name": "stdout",
     "output_type": "stream",
     "text": [
      "         Material  VMI_Blanket_PO  Balance_VMI_PO_Quanity\n",
      "0  50000408518017      4503179283                    80.0\n",
      "1  55000000002000      4503179283                   229.0\n",
      "2  55000000002001      4503179283                    45.0\n",
      "3  50000400500326      4503269893                   280.0\n",
      "4  50000400500328      4503269893                    31.0\n"
     ]
    }
   ],
   "source": [
    "po_col = [\"Material\",'Pur.\\xa0Doc.','To\\xa0be\\xa0del.']\n",
    "po_col_rename = {\"Material\":\"Material\",'Pur.\\xa0Doc.':\"VMI_Blanket_PO\",'To\\xa0be\\xa0del.':\"Balance_VMI_PO_Quanity\"}\n",
    "po_df = po_df[po_col]\n",
    "po_df = po_df.rename(columns=po_col_rename)\n",
    "print(po_df.head())"
   ]
  },
  {
   "cell_type": "code",
   "execution_count": 13,
   "metadata": {},
   "outputs": [],
   "source": [
    "po_stock = pd.merge(stock_df,po_df,left_on = \"Material\",right_on=\"Material\",how= \"left\")\n",
    "po_stock[[\"VMI_Blanket_PO\"]].astype(str)\n",
    "po_stock.head()\n",
    "po_stock[\"VMI Safety Stock Level(Max Level)\"] = (po_stock[\"VMI Drop To (Min level)\"].fillna(0) + po_stock[\"VMI Top Up\"].fillna(0))\n",
    "#po_stock[\"Top Up VMI Qty\"] = np.where(po_stock[\"GSK Stock Level\"] <= po_stock[\"VMI Drop To (Min level)\"], po_stock[\"VMI Top Up\"],0)"
   ]
  },
  {
   "cell_type": "code",
   "execution_count": 14,
   "metadata": {},
   "outputs": [],
   "source": [
    "conditions = [(po_stock[\"GSK Stock Level\"] <= po_stock[\"VMI Drop To (Min level)\"]),(po_stock[\"GSK Stock Level\"] > po_stock[\"VMI Drop To (Min level)\"])]\n",
    "values = [po_stock[\"VMI Top Up\"],0]\n",
    "po_stock[\"Top Up VMI Qty\"] = np.select(conditions,values)"
   ]
  },
  {
   "cell_type": "code",
   "execution_count": 15,
   "metadata": {},
   "outputs": [
    {
     "data": {
      "text/html": [
       "<div>\n",
       "<style scoped>\n",
       "    .dataframe tbody tr th:only-of-type {\n",
       "        vertical-align: middle;\n",
       "    }\n",
       "\n",
       "    .dataframe tbody tr th {\n",
       "        vertical-align: top;\n",
       "    }\n",
       "\n",
       "    .dataframe thead th {\n",
       "        text-align: right;\n",
       "    }\n",
       "</style>\n",
       "<table border=\"1\" class=\"dataframe\">\n",
       "  <thead>\n",
       "    <tr style=\"text-align: right;\">\n",
       "      <th></th>\n",
       "      <th>Material</th>\n",
       "      <th>Material_Description</th>\n",
       "      <th>VMI Drop To (Min level)</th>\n",
       "      <th>VMI Top Up</th>\n",
       "      <th>GSK Stock Level</th>\n",
       "      <th>Base Unit of Measure</th>\n",
       "      <th>SLoc</th>\n",
       "      <th>VMI_Blanket_PO</th>\n",
       "      <th>Balance_VMI_PO_Quanity</th>\n",
       "      <th>VMI Safety Stock Level(Max Level)</th>\n",
       "      <th>Top Up VMI Qty</th>\n",
       "    </tr>\n",
       "  </thead>\n",
       "  <tbody>\n",
       "    <tr>\n",
       "      <th>0</th>\n",
       "      <td>50000400000397</td>\n",
       "      <td>ATG MAXIFLEX KNITWRIST GLOVE SIZE 10</td>\n",
       "      <td>72.0</td>\n",
       "      <td>144.0</td>\n",
       "      <td>252.0</td>\n",
       "      <td>EA</td>\n",
       "      <td>5001</td>\n",
       "      <td>4.503320e+09</td>\n",
       "      <td>576.0</td>\n",
       "      <td>216.0</td>\n",
       "      <td>0.0</td>\n",
       "    </tr>\n",
       "    <tr>\n",
       "      <th>1</th>\n",
       "      <td>50000400000398</td>\n",
       "      <td>ATG MAXIFLEX KNITWRIST GLOVE SIZE 09</td>\n",
       "      <td>72.0</td>\n",
       "      <td>144.0</td>\n",
       "      <td>204.0</td>\n",
       "      <td>EA</td>\n",
       "      <td>5001</td>\n",
       "      <td>4.503320e+09</td>\n",
       "      <td>104.0</td>\n",
       "      <td>216.0</td>\n",
       "      <td>0.0</td>\n",
       "    </tr>\n",
       "    <tr>\n",
       "      <th>2</th>\n",
       "      <td>50000400000399</td>\n",
       "      <td>ATG MAXIFLEX KNITWRIST GLOVE SIZE 08</td>\n",
       "      <td>72.0</td>\n",
       "      <td>144.0</td>\n",
       "      <td>252.0</td>\n",
       "      <td>EA</td>\n",
       "      <td>5001</td>\n",
       "      <td>4.503320e+09</td>\n",
       "      <td>288.0</td>\n",
       "      <td>216.0</td>\n",
       "      <td>0.0</td>\n",
       "    </tr>\n",
       "    <tr>\n",
       "      <th>3</th>\n",
       "      <td>50000400000400</td>\n",
       "      <td>ATG MAXIFLEX KNITWRIST GLOVE SIZE 07</td>\n",
       "      <td>12.0</td>\n",
       "      <td>12.0</td>\n",
       "      <td>57.0</td>\n",
       "      <td>EA</td>\n",
       "      <td>5001</td>\n",
       "      <td>4.503320e+09</td>\n",
       "      <td>144.0</td>\n",
       "      <td>24.0</td>\n",
       "      <td>0.0</td>\n",
       "    </tr>\n",
       "    <tr>\n",
       "      <th>4</th>\n",
       "      <td>50000400201967</td>\n",
       "      <td>CLEANING-WIPERS 9X9 NON-WOVEN CELIULOSE</td>\n",
       "      <td>60.0</td>\n",
       "      <td>60.0</td>\n",
       "      <td>141.0</td>\n",
       "      <td>PAC</td>\n",
       "      <td>5001</td>\n",
       "      <td>4.503357e+09</td>\n",
       "      <td>150.0</td>\n",
       "      <td>120.0</td>\n",
       "      <td>0.0</td>\n",
       "    </tr>\n",
       "  </tbody>\n",
       "</table>\n",
       "</div>"
      ],
      "text/plain": [
       "         Material                     Material_Description  \\\n",
       "0  50000400000397     ATG MAXIFLEX KNITWRIST GLOVE SIZE 10   \n",
       "1  50000400000398     ATG MAXIFLEX KNITWRIST GLOVE SIZE 09   \n",
       "2  50000400000399     ATG MAXIFLEX KNITWRIST GLOVE SIZE 08   \n",
       "3  50000400000400     ATG MAXIFLEX KNITWRIST GLOVE SIZE 07   \n",
       "4  50000400201967  CLEANING-WIPERS 9X9 NON-WOVEN CELIULOSE   \n",
       "\n",
       "   VMI Drop To (Min level)  VMI Top Up  GSK Stock Level Base Unit of Measure  \\\n",
       "0                     72.0       144.0            252.0                   EA   \n",
       "1                     72.0       144.0            204.0                   EA   \n",
       "2                     72.0       144.0            252.0                   EA   \n",
       "3                     12.0        12.0             57.0                   EA   \n",
       "4                     60.0        60.0            141.0                  PAC   \n",
       "\n",
       "   SLoc  VMI_Blanket_PO  Balance_VMI_PO_Quanity  \\\n",
       "0  5001    4.503320e+09                   576.0   \n",
       "1  5001    4.503320e+09                   104.0   \n",
       "2  5001    4.503320e+09                   288.0   \n",
       "3  5001    4.503320e+09                   144.0   \n",
       "4  5001    4.503357e+09                   150.0   \n",
       "\n",
       "   VMI Safety Stock Level(Max Level)  Top Up VMI Qty  \n",
       "0                              216.0             0.0  \n",
       "1                              216.0             0.0  \n",
       "2                              216.0             0.0  \n",
       "3                               24.0             0.0  \n",
       "4                              120.0             0.0  "
      ]
     },
     "execution_count": 15,
     "metadata": {},
     "output_type": "execute_result"
    }
   ],
   "source": [
    "po_stock.head()"
   ]
  },
  {
   "cell_type": "code",
   "execution_count": 17,
   "metadata": {},
   "outputs": [],
   "source": [
    "excel_name = \"VMI.xlsx\"\n",
    "excel_file_path = os.path.join(r'\\\\Siwdsntv002\\sg_psc_sg1_pl_08_control_whse\\Past Interns\\Ryan\\Eriks', excel_name)\n",
    "with pd.ExcelWriter(excel_file_path, engine='openpyxl', mode='w') as writer:\n",
    "    po_stock.to_excel(writer, sheet_name=\"VMI\", index=False)"
   ]
  },
  {
   "cell_type": "markdown",
   "metadata": {},
   "source": []
  }
 ],
 "metadata": {
  "kernelspec": {
   "display_name": "Python 3",
   "language": "python",
   "name": "python3"
  },
  "language_info": {
   "codemirror_mode": {
    "name": "ipython",
    "version": 3
   },
   "file_extension": ".py",
   "mimetype": "text/x-python",
   "name": "python",
   "nbconvert_exporter": "python",
   "pygments_lexer": "ipython3",
   "version": "3.10.11"
  }
 },
 "nbformat": 4,
 "nbformat_minor": 2
}
